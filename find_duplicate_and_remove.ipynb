{
 "cells": [
  {
   "cell_type": "markdown",
   "metadata": {},
   "source": [
    "### The following function will look for duplicate images and removes them."
   ]
  },
  {
   "cell_type": "code",
   "execution_count": 1,
   "metadata": {},
   "outputs": [],
   "source": [
    "import os\n",
    "import face_recognition\n",
    "\n",
    "def remove_duplicate_images_according_face(folder_path, threshold=0.6):\n",
    "    \"\"\"\n",
    "    Identifies and removes duplicate images from a specified folder based on facial similarity.\n",
    "\n",
    "    Args:\n",
    "        folder_path (str): Path to the folder containing images.\n",
    "        threshold (float, optional): The distance threshold for considering two images as duplicates. Default is 0.6.\n",
    "    \"\"\"\n",
    "    \n",
    "    if not os.path.exists(folder_path):\n",
    "        print(f\"The folder '{folder_path}' does not exist.\")\n",
    "        return\n",
    "\n",
    "    image_files = [f for f in os.listdir(folder_path) if os.path.isfile(os.path.join(folder_path, f))]\n",
    "    encodings_seen = []\n",
    "\n",
    "    for image_file in image_files:\n",
    "        image_path = os.path.join(folder_path, image_file)\n",
    "\n",
    "        try:\n",
    "            # Load image and calculate encoding\n",
    "            image = face_recognition.load_image_file(image_path)\n",
    "            encodings = face_recognition.face_encodings(image)\n",
    "\n",
    "            if not encodings:\n",
    "                print(f\"No face found in {image_file}. Skipping.\")\n",
    "                continue\n",
    "\n",
    "            image_encoding = encodings[0]  # Assuming one face per image\n",
    "\n",
    "        except Exception as e:\n",
    "            print(f\"Error processing {image_file}: {e}\")\n",
    "            continue\n",
    "\n",
    "        # Compare this encoding with all seen encodings\n",
    "        is_duplicate = False\n",
    "        for seen_encoding in encodings_seen:\n",
    "            distance = face_recognition.face_distance([seen_encoding], image_encoding)[0]\n",
    "            if distance < threshold:\n",
    "                print(f\"Duplicate found: {image_file} is a duplicate.\")\n",
    "                is_duplicate = True\n",
    "                os.remove(image_path)  # Remove the duplicate image\n",
    "                break\n",
    "\n",
    "        if not is_duplicate:\n",
    "            encodings_seen.append(image_encoding)\n",
    "\n",
    "    print(\"Duplicate image removal process is complete.\")\n"
   ]
  },
  {
   "cell_type": "code",
   "execution_count": 2,
   "metadata": {},
   "outputs": [
    {
     "name": "stdout",
     "output_type": "stream",
     "text": [
      "Duplicate found: Akshay Kumar_49.jpg is a duplicate.\n",
      "Duplicate found: Alexandra Daddario_3.jpg is a duplicate.\n",
      "Duplicate found: Akshay Kumar_46.jpg is a duplicate.\n",
      "Duplicate found: Akshay Kumar_45.jpg is a duplicate.\n",
      "Duplicate found: Akshay Kumar_47.jpg is a duplicate.\n",
      "Duplicate found: Alexandra Daddario_2.jpg is a duplicate.\n",
      "Duplicate found: Alexandra Daddario_0 copy.jpg is a duplicate.\n",
      "Duplicate found: Akshay Kumar_47 copy.jpg is a duplicate.\n",
      "Duplicate found: Alexandra Daddario_3 copy.jpg is a duplicate.\n",
      "Duplicate found: Akshay Kumar_49 copy.jpg is a duplicate.\n",
      "Duplicate found: Alexandra Daddario_1.jpg is a duplicate.\n",
      "Duplicate found: Akshay Kumar_48.jpg is a duplicate.\n",
      "Duplicate found: Akshay Kumar_48 copy.jpg is a duplicate.\n",
      "Duplicate found: Akshay Kumar_45 copy.jpg is a duplicate.\n",
      "Duplicate found: Alexandra Daddario_1 copy.jpg is a duplicate.\n",
      "Duplicate found: Alexandra Daddario_0.jpg is a duplicate.\n",
      "Duplicate image removal process is complete.\n"
     ]
    }
   ],
   "source": [
    "folder_path = \"assets/image_data/archive/pull\"\n",
    "remove_duplicate_images_according_face(folder_path)"
   ]
  },
  {
   "cell_type": "code",
   "execution_count": 4,
   "metadata": {},
   "outputs": [
    {
     "name": "stdout",
     "output_type": "stream",
     "text": [
      "Defaulting to user installation because normal site-packages is not writeable\n",
      "Collecting imagehash\n",
      "  Downloading ImageHash-4.3.1-py2.py3-none-any.whl (296 kB)\n",
      "\u001b[2K     \u001b[38;2;114;156;31m━━━━━━━━━━━━━━━━━━━━━━━━━━━━━━━━━━━━━━━\u001b[0m \u001b[32m296.5/296.5 KB\u001b[0m \u001b[31m1.1 MB/s\u001b[0m eta \u001b[36m0:00:00\u001b[0m[31m1.3 MB/s\u001b[0m eta \u001b[36m0:00:01\u001b[0m\n",
      "\u001b[?25hRequirement already satisfied: pillow in /usr/lib/python3/dist-packages (from imagehash) (9.0.1)\n",
      "Requirement already satisfied: scipy in /home/vpsr/.local/lib/python3.10/site-packages (from imagehash) (1.14.1)\n",
      "Collecting PyWavelets\n",
      "  Downloading pywavelets-1.7.0-cp310-cp310-manylinux_2_17_x86_64.manylinux2014_x86_64.whl (4.5 MB)\n",
      "\u001b[2K     \u001b[38;2;114;156;31m━━━━━━━━━━━━━━━━━━━━━━━━━━━━━━━━━━━━━━━━\u001b[0m \u001b[32m4.5/4.5 MB\u001b[0m \u001b[31m3.6 MB/s\u001b[0m eta \u001b[36m0:00:00\u001b[0mm eta \u001b[36m0:00:01\u001b[0m[36m0:00:01\u001b[0m\n",
      "\u001b[?25hRequirement already satisfied: numpy in /home/vpsr/.local/lib/python3.10/site-packages (from imagehash) (2.1.1)\n",
      "Installing collected packages: PyWavelets, imagehash\n",
      "Successfully installed PyWavelets-1.7.0 imagehash-4.3.1\n"
     ]
    }
   ],
   "source": [
    "!pip install imagehash"
   ]
  },
  {
   "cell_type": "code",
   "execution_count": 5,
   "metadata": {},
   "outputs": [],
   "source": [
    "import os\n",
    "from PIL import Image\n",
    "import imagehash\n",
    "\n",
    "def remove_duplicate_images(folder_path):\n",
    "    \"\"\"\n",
    "    Identifies and removes duplicate images from a specified folder based on image hash.\n",
    "\n",
    "    Args:\n",
    "        folder_path (str): Path to the folder containing images.\n",
    "    \"\"\"\n",
    "    \n",
    "    if not os.path.exists(folder_path):\n",
    "        print(f\"The folder '{folder_path}' does not exist.\")\n",
    "        return\n",
    "\n",
    "    image_files = [f for f in os.listdir(folder_path) if os.path.isfile(os.path.join(folder_path, f))]\n",
    "    hashes_seen = {}\n",
    "\n",
    "    for image_file in image_files:\n",
    "        image_path = os.path.join(folder_path, image_file)\n",
    "\n",
    "        try:\n",
    "            # Load image and compute its hash\n",
    "            with Image.open(image_path) as img:\n",
    "                img_hash = imagehash.phash(img)  # Perceptual hash (pHash)\n",
    "\n",
    "            # Check if this hash has already been seen\n",
    "            if img_hash in hashes_seen:\n",
    "                print(f\"Duplicate found: {image_file} is a duplicate of {hashes_seen[img_hash]}\")\n",
    "                os.remove(image_path)  # Remove the duplicate image\n",
    "            else:\n",
    "                hashes_seen[img_hash] = image_file\n",
    "\n",
    "        except Exception as e:\n",
    "            print(f\"Error processing {image_file}: {e}\")\n",
    "            continue\n",
    "\n",
    "    print(\"Duplicate image removal process is complete.\")\n"
   ]
  },
  {
   "cell_type": "code",
   "execution_count": 6,
   "metadata": {},
   "outputs": [
    {
     "name": "stdout",
     "output_type": "stream",
     "text": [
      "Duplicate found: Hrithik Roshan_97.jpg is a duplicate of Hrithik Roshan_97 copy.jpg\n",
      "Duplicate found: Henry Cavill_2.jpg is a duplicate of Henry Cavill_2 copy.jpg\n",
      "Duplicate found: Hrithik Roshan_99.jpg is a duplicate of Hrithik Roshan_99 copy.jpg\n",
      "Duplicate found: Henry Cavill_0.jpg is a duplicate of Henry Cavill_0 copy.jpg\n",
      "Duplicate found: Henry Cavill_3.jpg is a duplicate of Henry Cavill_3 copy.jpg\n",
      "Duplicate found: Hrithik Roshan_100.jpg is a duplicate of Hrithik Roshan_100 copy.jpg\n",
      "Duplicate found: Henry Cavill_4 copy.jpg is a duplicate of Henry Cavill_4.jpg\n",
      "Duplicate found: Henry Cavill_1 copy.jpg is a duplicate of Henry Cavill_1.jpg\n",
      "Duplicate found: Hrithik Roshan_98 copy.jpg is a duplicate of Hrithik Roshan_98.jpg\n",
      "Duplicate image removal process is complete.\n"
     ]
    }
   ],
   "source": [
    "folder_path = \"assets/image_data/archive/pull\"\n",
    "remove_duplicate_images(folder_path)"
   ]
  },
  {
   "cell_type": "code",
   "execution_count": null,
   "metadata": {},
   "outputs": [],
   "source": []
  }
 ],
 "metadata": {
  "kernelspec": {
   "display_name": "Python 3",
   "language": "python",
   "name": "python3"
  },
  "language_info": {
   "codemirror_mode": {
    "name": "ipython",
    "version": 3
   },
   "file_extension": ".py",
   "mimetype": "text/x-python",
   "name": "python",
   "nbconvert_exporter": "python",
   "pygments_lexer": "ipython3",
   "version": "3.10.12"
  }
 },
 "nbformat": 4,
 "nbformat_minor": 2
}
