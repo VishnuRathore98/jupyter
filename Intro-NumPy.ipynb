{
 "cells": [
  {
   "cell_type": "markdown",
   "id": "6b20e6df-bd3f-42a1-8354-8c2bb07e9b75",
   "metadata": {},
   "source": [
    "# <u>Introduction to NumPy</u>"
   ]
  },
  {
   "cell_type": "code",
   "execution_count": 2,
   "id": "d670d7a0-63cc-4c89-8726-bc0177ef2df4",
   "metadata": {},
   "outputs": [],
   "source": [
    "import numpy as np"
   ]
  },
  {
   "cell_type": "code",
   "execution_count": 3,
   "id": "aa93b13c-4e8c-493f-b70f-000fd109ce51",
   "metadata": {},
   "outputs": [
    {
     "data": {
      "text/plain": [
       "'2.1.1'"
      ]
     },
     "execution_count": 3,
     "metadata": {},
     "output_type": "execute_result"
    }
   ],
   "source": [
    "np.__version__"
   ]
  },
  {
   "cell_type": "code",
   "execution_count": 4,
   "id": "2b406b6f-2be8-4348-a208-e97991b42b84",
   "metadata": {},
   "outputs": [
    {
     "data": {
      "text/plain": [
       "\u001b[0;31mType:\u001b[0m        module\n",
       "\u001b[0;31mString form:\u001b[0m <module 'numpy' from '/home/vpsr/.local/lib/python3.10/site-packages/numpy/__init__.py'>\n",
       "\u001b[0;31mFile:\u001b[0m        ~/.local/lib/python3.10/site-packages/numpy/__init__.py\n",
       "\u001b[0;31mDocstring:\u001b[0m  \n",
       "NumPy\n",
       "=====\n",
       "\n",
       "Provides\n",
       "  1. An array object of arbitrary homogeneous items\n",
       "  2. Fast mathematical operations over arrays\n",
       "  3. Linear Algebra, Fourier Transforms, Random Number Generation\n",
       "\n",
       "How to use the documentation\n",
       "----------------------------\n",
       "Documentation is available in two forms: docstrings provided\n",
       "with the code, and a loose standing reference guide, available from\n",
       "`the NumPy homepage <https://numpy.org>`_.\n",
       "\n",
       "We recommend exploring the docstrings using\n",
       "`IPython <https://ipython.org>`_, an advanced Python shell with\n",
       "TAB-completion and introspection capabilities.  See below for further\n",
       "instructions.\n",
       "\n",
       "The docstring examples assume that `numpy` has been imported as ``np``::\n",
       "\n",
       "  >>> import numpy as np\n",
       "\n",
       "Code snippets are indicated by three greater-than signs::\n",
       "\n",
       "  >>> x = 42\n",
       "  >>> x = x + 1\n",
       "\n",
       "Use the built-in ``help`` function to view a function's docstring::\n",
       "\n",
       "  >>> help(np.sort)\n",
       "  ... # doctest: +SKIP\n",
       "\n",
       "For some objects, ``np.info(obj)`` may provide additional help.  This is\n",
       "particularly true if you see the line \"Help on ufunc object:\" at the top\n",
       "of the help() page.  Ufuncs are implemented in C, not Python, for speed.\n",
       "The native Python help() does not know how to view their help, but our\n",
       "np.info() function does.\n",
       "\n",
       "Available subpackages\n",
       "---------------------\n",
       "lib\n",
       "    Basic functions used by several sub-packages.\n",
       "random\n",
       "    Core Random Tools\n",
       "linalg\n",
       "    Core Linear Algebra Tools\n",
       "fft\n",
       "    Core FFT routines\n",
       "polynomial\n",
       "    Polynomial tools\n",
       "testing\n",
       "    NumPy testing tools\n",
       "distutils\n",
       "    Enhancements to distutils with support for\n",
       "    Fortran compilers support and more (for Python <= 3.11)\n",
       "\n",
       "Utilities\n",
       "---------\n",
       "test\n",
       "    Run numpy unittests\n",
       "show_config\n",
       "    Show numpy build configuration\n",
       "__version__\n",
       "    NumPy version string\n",
       "\n",
       "Viewing documentation using IPython\n",
       "-----------------------------------\n",
       "\n",
       "Start IPython and import `numpy` usually under the alias ``np``: `import\n",
       "numpy as np`.  Then, directly past or use the ``%cpaste`` magic to paste\n",
       "examples into the shell.  To see which functions are available in `numpy`,\n",
       "type ``np.<TAB>`` (where ``<TAB>`` refers to the TAB key), or use\n",
       "``np.*cos*?<ENTER>`` (where ``<ENTER>`` refers to the ENTER key) to narrow\n",
       "down the list.  To view the docstring for a function, use\n",
       "``np.cos?<ENTER>`` (to view the docstring) and ``np.cos??<ENTER>`` (to view\n",
       "the source code).\n",
       "\n",
       "Copies vs. in-place operation\n",
       "-----------------------------\n",
       "Most of the functions in `numpy` return a copy of the array argument\n",
       "(e.g., `np.sort`).  In-place versions of these functions are often\n",
       "available as array methods, i.e. ``x = np.array([1,2,3]); x.sort()``.\n",
       "Exceptions to this rule are documented."
      ]
     },
     "metadata": {},
     "output_type": "display_data"
    }
   ],
   "source": [
    "np?"
   ]
  },
  {
   "cell_type": "code",
   "execution_count": 5,
   "id": "a3d68213-2d0a-487b-a840-dbabf9aeaaf2",
   "metadata": {},
   "outputs": [
    {
     "data": {
      "text/plain": [
       "array([1, 4, 6, 8])"
      ]
     },
     "execution_count": 5,
     "metadata": {},
     "output_type": "execute_result"
    }
   ],
   "source": [
    "# integer array\n",
    "np.array([1,4,6,8])"
   ]
  },
  {
   "cell_type": "code",
   "execution_count": 6,
   "id": "76cb3394-a08f-4a1f-83f4-0f0138547e49",
   "metadata": {},
   "outputs": [
    {
     "data": {
      "text/plain": [
       "array([[2, 3, 4],\n",
       "       [4, 5, 6],\n",
       "       [6, 7, 8]])"
      ]
     },
     "execution_count": 6,
     "metadata": {},
     "output_type": "execute_result"
    }
   ],
   "source": [
    "# nested lists results in multidimensional arrays\n",
    "np.array([range(i,i+3) for i in [2,4,6]])"
   ]
  },
  {
   "cell_type": "code",
   "execution_count": 7,
   "id": "87dc844b-659e-4bd4-b840-a36cecd49376",
   "metadata": {},
   "outputs": [
    {
     "data": {
      "text/plain": [
       "array([0, 0, 0, 0, 0, 0, 0, 0, 0, 0])"
      ]
     },
     "execution_count": 7,
     "metadata": {},
     "output_type": "execute_result"
    }
   ],
   "source": [
    "# create a length 10 integer array filled with zeros\n",
    "np.zeros(10, dtype=int)"
   ]
  },
  {
   "cell_type": "code",
   "execution_count": 8,
   "id": "229ef8fc-1815-4fee-8a0b-329a50432c20",
   "metadata": {},
   "outputs": [
    {
     "data": {
      "text/plain": [
       "array([[1., 1., 1., 1., 1.],\n",
       "       [1., 1., 1., 1., 1.],\n",
       "       [1., 1., 1., 1., 1.]])"
      ]
     },
     "execution_count": 8,
     "metadata": {},
     "output_type": "execute_result"
    }
   ],
   "source": [
    "# create a 3*5 floating point array filled with 1's\n",
    "np.ones((3,5), dtype=float)"
   ]
  },
  {
   "cell_type": "code",
   "execution_count": 9,
   "id": "f9a18001-d5ad-4eb2-8c30-57f88cc5dd12",
   "metadata": {},
   "outputs": [
    {
     "data": {
      "text/plain": [
       "array([[3.14, 3.14, 3.14, 3.14, 3.14],\n",
       "       [3.14, 3.14, 3.14, 3.14, 3.14],\n",
       "       [3.14, 3.14, 3.14, 3.14, 3.14]])"
      ]
     },
     "execution_count": 9,
     "metadata": {},
     "output_type": "execute_result"
    }
   ],
   "source": [
    "# create a 3*5 array filled with 3.14\n",
    "np.full((3,5), 3.14)"
   ]
  },
  {
   "cell_type": "code",
   "execution_count": 10,
   "id": "a82ea955-3e3b-42f7-8554-26e8196b87f5",
   "metadata": {},
   "outputs": [
    {
     "data": {
      "text/plain": [
       "array([ 0,  2,  4,  6,  8, 10, 12, 14, 16, 18])"
      ]
     },
     "execution_count": 10,
     "metadata": {},
     "output_type": "execute_result"
    }
   ],
   "source": [
    "# create an array filled with a linear sequence \n",
    "# starting at 0, ending at 20, stepping by 2\n",
    "# (simillar to built in range())\n",
    "np.arange(0, 20, 2)"
   ]
  },
  {
   "cell_type": "code",
   "execution_count": 11,
   "id": "c50b6592-a5b4-432b-9066-982968ba5e4b",
   "metadata": {},
   "outputs": [
    {
     "data": {
      "text/plain": [
       "array([0.  , 0.25, 0.5 , 0.75, 1.  ])"
      ]
     },
     "execution_count": 11,
     "metadata": {},
     "output_type": "execute_result"
    }
   ],
   "source": [
    "# create an array of five values evenly spaced between 0 and 1\n",
    "np.linspace(0,1,num=5)"
   ]
  },
  {
   "cell_type": "code",
   "execution_count": 12,
   "id": "8f77a18d-93ce-4e08-a39a-0e45be9be671",
   "metadata": {},
   "outputs": [
    {
     "data": {
      "text/plain": [
       "array([[0.01479244, 0.79634022, 0.40086311],\n",
       "       [0.82549689, 0.81738925, 0.14540041],\n",
       "       [0.7338109 , 0.21766753, 0.32775872]])"
      ]
     },
     "execution_count": 12,
     "metadata": {},
     "output_type": "execute_result"
    }
   ],
   "source": [
    "# create a 3*3 array of uniformly distributed random values between 0 and 1\n",
    "# np.random.random([3,3])\n",
    "np.random.random((3,3))"
   ]
  },
  {
   "cell_type": "code",
   "execution_count": 13,
   "id": "fe53ac5a-d2f4-44e3-a063-86fdae75dced",
   "metadata": {},
   "outputs": [
    {
     "data": {
      "text/plain": [
       "array([[-1.32268799,  0.61770365, -0.31684931],\n",
       "       [ 1.15181917, -1.99986485,  0.68006023],\n",
       "       [-1.0134633 , -2.02938883, -0.18578419]])"
      ]
     },
     "execution_count": 13,
     "metadata": {},
     "output_type": "execute_result"
    }
   ],
   "source": [
    "# create a 3*3 array of normally distributed random values\n",
    "# with mean 0 and standard deviation 1\n",
    "np.random.normal(0,1,(3,3))\n",
    "# np.random.normal?"
   ]
  },
  {
   "cell_type": "code",
   "execution_count": 14,
   "id": "05df7a41-45dc-48ff-a93c-4856e04b73d1",
   "metadata": {},
   "outputs": [
    {
     "data": {
      "text/plain": [
       "array([[8, 5, 6],\n",
       "       [7, 6, 6],\n",
       "       [9, 6, 0]])"
      ]
     },
     "execution_count": 14,
     "metadata": {},
     "output_type": "execute_result"
    }
   ],
   "source": [
    "# create a 3*3 array of random integers in the interval [0,10)\n",
    "np.random.randint(0,10,(3,3))"
   ]
  },
  {
   "cell_type": "code",
   "execution_count": 15,
   "id": "870aeb1d-502b-4945-8e86-a5381a654a22",
   "metadata": {},
   "outputs": [
    {
     "data": {
      "text/plain": [
       "array([[1., 0., 0.],\n",
       "       [0., 1., 0.],\n",
       "       [0., 0., 1.]])"
      ]
     },
     "execution_count": 15,
     "metadata": {},
     "output_type": "execute_result"
    }
   ],
   "source": [
    "# create a 3*3 identity matrix\n",
    "np.eye(3)\n",
    "# np.eye?"
   ]
  },
  {
   "cell_type": "code",
   "execution_count": 16,
   "id": "ca1cbdb6-72a1-4fdf-84f7-56d6cc0f0a6e",
   "metadata": {},
   "outputs": [
    {
     "data": {
      "text/plain": [
       "array([1., 1., 1.])"
      ]
     },
     "execution_count": 16,
     "metadata": {},
     "output_type": "execute_result"
    }
   ],
   "source": [
    "# create an uninitialized array of three integers \n",
    "# The values will be whatever happens to already exist at that memory location\n",
    "# np.empty?\n",
    "np.empty(3)"
   ]
  },
  {
   "cell_type": "markdown",
   "id": "a4b88b99-8064-4867-8279-740ebba99380",
   "metadata": {},
   "source": [
    "## <u>Basics of NumPy Arrays</u>"
   ]
  },
  {
   "cell_type": "markdown",
   "id": "3afbb9d9-9938-4460-8c05-966b5288ab5a",
   "metadata": {},
   "source": [
    "### 1. NumPy Array Attributes:\n",
    "##### Determine the size, shape, memory consumption, and data types of arrays."
   ]
  },
  {
   "cell_type": "code",
   "execution_count": 17,
   "id": "b5139136-6077-4971-8647-b48d39952c0c",
   "metadata": {},
   "outputs": [],
   "source": [
    "np.random.seed(0)"
   ]
  },
  {
   "cell_type": "code",
   "execution_count": 18,
   "id": "9c2b6807-8443-45a9-94e9-18d11da32c1b",
   "metadata": {},
   "outputs": [],
   "source": [
    "x1=np.random.randint(10,size=6)       # 1 dimensional array\n",
    "x2=np.random.randint(10,size=(3,4))   # 2 dimensional array\n",
    "x3=np.random.randint(10,size=(3,4,5)) # 3 dimensional array"
   ]
  },
  {
   "cell_type": "code",
   "execution_count": 19,
   "id": "949a8b99-f526-41a0-927d-1d44df1c0fdf",
   "metadata": {},
   "outputs": [
    {
     "name": "stdout",
     "output_type": "stream",
     "text": [
      "3\n"
     ]
    }
   ],
   "source": [
    "print(x3.ndim) # number of dimensions"
   ]
  },
  {
   "cell_type": "code",
   "execution_count": 20,
   "id": "e324abe9-3ac4-4d1b-9720-04e168dd73eb",
   "metadata": {},
   "outputs": [
    {
     "name": "stdout",
     "output_type": "stream",
     "text": [
      "(3, 4, 5)\n"
     ]
    }
   ],
   "source": [
    "print(x3.shape) # size of each dimension"
   ]
  },
  {
   "cell_type": "code",
   "execution_count": 21,
   "id": "8c28b57b-d9c1-448c-b541-aa6ae47d2bc4",
   "metadata": {},
   "outputs": [
    {
     "name": "stdout",
     "output_type": "stream",
     "text": [
      "60\n"
     ]
    }
   ],
   "source": [
    "print(x3.size) # total size of the array"
   ]
  },
  {
   "cell_type": "code",
   "execution_count": 22,
   "id": "e74086fe-835e-4789-b772-4dc945974fa8",
   "metadata": {},
   "outputs": [
    {
     "name": "stdout",
     "output_type": "stream",
     "text": [
      "int64\n"
     ]
    }
   ],
   "source": [
    "print(x3.dtype) # datatype"
   ]
  },
  {
   "cell_type": "code",
   "execution_count": 23,
   "id": "6520a4f1-281f-45f4-888e-17f40aaf2cf1",
   "metadata": {},
   "outputs": [
    {
     "name": "stdout",
     "output_type": "stream",
     "text": [
      "8\n"
     ]
    }
   ],
   "source": [
    "print(x3.itemsize) # size of array element in bytes"
   ]
  },
  {
   "cell_type": "code",
   "execution_count": 24,
   "id": "e229fb2f-4a35-4c3b-80e9-ac4416f4bf03",
   "metadata": {},
   "outputs": [
    {
     "name": "stdout",
     "output_type": "stream",
     "text": [
      "480\n"
     ]
    }
   ],
   "source": [
    "print(x3.nbytes) # total size of the array in bytes => itemsize*size"
   ]
  },
  {
   "cell_type": "markdown",
   "id": "80ba8a60-f0d0-4062-b246-008b31db5a69",
   "metadata": {},
   "source": [
    "### 2. Array indexing: Accessing single elements\n",
    "##### Getting and setting the value of individual array elements"
   ]
  },
  {
   "cell_type": "code",
   "execution_count": 25,
   "id": "a92071ce-cb8d-4f8c-afef-99bf68a7166e",
   "metadata": {},
   "outputs": [
    {
     "name": "stdout",
     "output_type": "stream",
     "text": [
      "[5 0 3 3 7 9]\n",
      "3\n"
     ]
    }
   ],
   "source": [
    "# Getting the ith value from start\n",
    "print(x1)\n",
    "print(x1[3])"
   ]
  },
  {
   "cell_type": "code",
   "execution_count": 26,
   "id": "f04ffcda-c217-4bac-968b-5abe186c82a6",
   "metadata": {},
   "outputs": [
    {
     "name": "stdout",
     "output_type": "stream",
     "text": [
      "[5 0 3 3 7 9]\n",
      "7\n"
     ]
    }
   ],
   "source": [
    "# Getting the ith value from end\n",
    "print(x1)\n",
    "print(x1[-2])"
   ]
  },
  {
   "cell_type": "code",
   "execution_count": 27,
   "id": "ac3c7cd9-1df3-4018-aa45-0e39584ebc18",
   "metadata": {},
   "outputs": [
    {
     "name": "stdout",
     "output_type": "stream",
     "text": [
      "[[3 5 2 4]\n",
      " [7 6 8 8]\n",
      " [1 6 7 7]]\n",
      "2\n",
      "2\n"
     ]
    }
   ],
   "source": [
    "# Accessing multi dimensional array elements\n",
    "print(x2)\n",
    "print(x2[0][2])\n",
    "print(x2[0,2])"
   ]
  },
  {
   "cell_type": "code",
   "execution_count": 28,
   "id": "47f6fa11-d2bb-4cc0-8d49-957f1e822abd",
   "metadata": {},
   "outputs": [
    {
     "name": "stdout",
     "output_type": "stream",
     "text": [
      "Original: \n",
      " [[3 5 2 4]\n",
      " [7 6 8 8]\n",
      " [1 6 7 7]]\n",
      "\n",
      "Modified: \n",
      " [[ 3  5 12  4]\n",
      " [ 7  6  8  8]\n",
      " [ 1  6  7  7]]\n"
     ]
    }
   ],
   "source": [
    "# Modifying values\n",
    "print(\"Original: \\n\",x2)\n",
    "x2[0,2]=12\n",
    "print(\"\\nModified: \\n\",x2)"
   ]
  },
  {
   "cell_type": "markdown",
   "id": "0197fb8c-c529-472e-be30-75f1a48f6a90",
   "metadata": {},
   "source": [
    "### 3. Array Slicing: Accessing Subarrays\n",
    "#### Getting and setting smaller subarrays within a large array"
   ]
  },
  {
   "cell_type": "markdown",
   "id": "9bf10d01-ba8a-4cab-b82a-4fc6124ab402",
   "metadata": {},
   "source": [
    "##### One-dimensional subarrays:            x[start:stop:step]"
   ]
  },
  {
   "cell_type": "code",
   "execution_count": 29,
   "id": "044c6871-7615-4250-9da3-885221b3c49a",
   "metadata": {},
   "outputs": [
    {
     "name": "stdout",
     "output_type": "stream",
     "text": [
      "[0 1 2 3 4 5 6 7 8 9]\n"
     ]
    }
   ],
   "source": [
    "x=np.arange(10)\n",
    "print(x)"
   ]
  },
  {
   "cell_type": "code",
   "execution_count": 30,
   "id": "865b384e-205c-4ce0-aaf1-c5a0ce6301c8",
   "metadata": {},
   "outputs": [
    {
     "data": {
      "text/plain": [
       "array([0, 1, 2, 3, 4])"
      ]
     },
     "execution_count": 30,
     "metadata": {},
     "output_type": "execute_result"
    }
   ],
   "source": [
    "x[:5] # first five elements"
   ]
  },
  {
   "cell_type": "code",
   "execution_count": 31,
   "id": "af5a55b2-7542-4071-aa70-952ed7c7bf9a",
   "metadata": {},
   "outputs": [
    {
     "data": {
      "text/plain": [
       "array([5, 6, 7, 8, 9])"
      ]
     },
     "execution_count": 31,
     "metadata": {},
     "output_type": "execute_result"
    }
   ],
   "source": [
    "x[5:] # elements after index 5"
   ]
  },
  {
   "cell_type": "code",
   "execution_count": 32,
   "id": "8bc8cb1b-567d-475d-b366-dfe5540a24b0",
   "metadata": {},
   "outputs": [
    {
     "data": {
      "text/plain": [
       "array([3, 4, 5])"
      ]
     },
     "execution_count": 32,
     "metadata": {},
     "output_type": "execute_result"
    }
   ],
   "source": [
    "x[3:6] # middle subarray"
   ]
  },
  {
   "cell_type": "code",
   "execution_count": 33,
   "id": "fb925d32-93f0-4391-9d8a-db20fc25ff08",
   "metadata": {},
   "outputs": [
    {
     "data": {
      "text/plain": [
       "array([0, 2, 4, 6, 8])"
      ]
     },
     "execution_count": 33,
     "metadata": {},
     "output_type": "execute_result"
    }
   ],
   "source": [
    "x[::2] # every other element"
   ]
  },
  {
   "cell_type": "code",
   "execution_count": 34,
   "id": "3b8a1999-e313-4118-b8e4-50312b8c4eec",
   "metadata": {},
   "outputs": [
    {
     "data": {
      "text/plain": [
       "array([1, 3, 5, 7, 9])"
      ]
     },
     "execution_count": 34,
     "metadata": {},
     "output_type": "execute_result"
    }
   ],
   "source": [
    "x[1::2] # every other element starting at index 1"
   ]
  },
  {
   "cell_type": "code",
   "execution_count": 35,
   "id": "cea8def4-95bd-47bb-9103-c5ecb2bb6f55",
   "metadata": {},
   "outputs": [
    {
     "data": {
      "text/plain": [
       "array([9, 8, 7, 6, 5, 4, 3, 2, 1, 0])"
      ]
     },
     "execution_count": 35,
     "metadata": {},
     "output_type": "execute_result"
    }
   ],
   "source": [
    "x[::-1] # all elements, reversed"
   ]
  },
  {
   "cell_type": "code",
   "execution_count": 36,
   "id": "4d9a8b6c-d9fb-4231-b748-0e94e3c11a01",
   "metadata": {},
   "outputs": [
    {
     "data": {
      "text/plain": [
       "array([5, 3, 1])"
      ]
     },
     "execution_count": 36,
     "metadata": {},
     "output_type": "execute_result"
    }
   ],
   "source": [
    "x[5::-2] # reversed every other from index 5"
   ]
  },
  {
   "cell_type": "markdown",
   "id": "7284dad0-5f61-4d2c-a54a-3d05f8b2f1ec",
   "metadata": {},
   "source": [
    "##### Multidimensional subarrays:"
   ]
  },
  {
   "cell_type": "code",
   "execution_count": 37,
   "id": "fc853e98-5d57-467e-b53c-a9dbaa13a490",
   "metadata": {},
   "outputs": [
    {
     "name": "stdout",
     "output_type": "stream",
     "text": [
      "[[ 3  5 12  4]\n",
      " [ 7  6  8  8]\n",
      " [ 1  6  7  7]]\n"
     ]
    }
   ],
   "source": [
    "print(x2)"
   ]
  },
  {
   "cell_type": "code",
   "execution_count": 38,
   "id": "8d42a3f8-125b-49b2-abcf-01c7ea338342",
   "metadata": {},
   "outputs": [
    {
     "data": {
      "text/plain": [
       "array([[ 3,  5, 12],\n",
       "       [ 7,  6,  8]])"
      ]
     },
     "execution_count": 38,
     "metadata": {},
     "output_type": "execute_result"
    }
   ],
   "source": [
    "x2[:2,:3] # two rows, three columns"
   ]
  },
  {
   "cell_type": "code",
   "execution_count": 39,
   "id": "e53acf67-c045-4588-82cc-79dea2ec28fe",
   "metadata": {},
   "outputs": [
    {
     "data": {
      "text/plain": [
       "array([[ 3, 12],\n",
       "       [ 7,  8],\n",
       "       [ 1,  7]])"
      ]
     },
     "execution_count": 39,
     "metadata": {},
     "output_type": "execute_result"
    }
   ],
   "source": [
    "x2[:,::2] # all rows, every other column"
   ]
  },
  {
   "cell_type": "code",
   "execution_count": 40,
   "id": "a78e0e64-8477-484b-befd-39b98f8d0be2",
   "metadata": {},
   "outputs": [
    {
     "data": {
      "text/plain": [
       "array([[ 1,  6,  7,  7],\n",
       "       [ 7,  6,  8,  8],\n",
       "       [ 3,  5, 12,  4]])"
      ]
     },
     "execution_count": 40,
     "metadata": {},
     "output_type": "execute_result"
    }
   ],
   "source": [
    "x2[::-1,:] # reversed rows, all columns"
   ]
  },
  {
   "cell_type": "code",
   "execution_count": 41,
   "id": "3b079678-d687-4aa8-9b96-97bf56885cec",
   "metadata": {},
   "outputs": [
    {
     "data": {
      "text/plain": [
       "array([[ 4, 12,  5,  3],\n",
       "       [ 8,  8,  6,  7],\n",
       "       [ 7,  7,  6,  1]])"
      ]
     },
     "execution_count": 41,
     "metadata": {},
     "output_type": "execute_result"
    }
   ],
   "source": [
    "x2[:,::-1] # reversed columns, all rows"
   ]
  },
  {
   "cell_type": "code",
   "execution_count": 42,
   "id": "c803fed0-06f4-4d48-bfc5-0eec4cad8bee",
   "metadata": {},
   "outputs": [
    {
     "data": {
      "text/plain": [
       "array([[ 7,  7,  6,  1],\n",
       "       [ 8,  8,  6,  7],\n",
       "       [ 4, 12,  5,  3]])"
      ]
     },
     "execution_count": 42,
     "metadata": {},
     "output_type": "execute_result"
    }
   ],
   "source": [
    "x2[::-1,::-1] # reversed rows, and columns"
   ]
  },
  {
   "cell_type": "code",
   "execution_count": 43,
   "id": "db6905c3-a849-4adc-b4e5-dd23e84a6b35",
   "metadata": {},
   "outputs": [
    {
     "data": {
      "text/plain": [
       "array([ 3,  5, 12,  4])"
      ]
     },
     "execution_count": 43,
     "metadata": {},
     "output_type": "execute_result"
    }
   ],
   "source": [
    "x2[0,:] # accessing array's first row\n",
    "# x2[0] # compact, in case of rows only"
   ]
  },
  {
   "cell_type": "code",
   "execution_count": 44,
   "id": "afcdbd69-285b-4479-b896-fee13329cf5c",
   "metadata": {},
   "outputs": [
    {
     "data": {
      "text/plain": [
       "array([3, 7, 1])"
      ]
     },
     "execution_count": 44,
     "metadata": {},
     "output_type": "execute_result"
    }
   ],
   "source": [
    "x2[:,0] # accessing array's first column"
   ]
  },
  {
   "cell_type": "markdown",
   "id": "f266b5d4-d111-43d9-9fa6-652e73af95e0",
   "metadata": {},
   "source": [
    "##### Subarrays as no-copy views\n",
    "###### Array slices return <i>views</i> rather than <i>copies</i> of the array data. In noraml python <i>list</i> slicing, slices will be <i>copies</i>."
   ]
  },
  {
   "cell_type": "code",
   "execution_count": 45,
   "id": "af191f7a-7b7b-4a08-b8fc-da97ea486d97",
   "metadata": {},
   "outputs": [
    {
     "name": "stdout",
     "output_type": "stream",
     "text": [
      "[[ 3  5 12  4]\n",
      " [ 7  6  8  8]\n",
      " [ 1  6  7  7]]\n"
     ]
    }
   ],
   "source": [
    "print(x2)"
   ]
  },
  {
   "cell_type": "code",
   "execution_count": 46,
   "id": "6783378e-89e9-48fb-83b7-eeabf52df185",
   "metadata": {},
   "outputs": [
    {
     "name": "stdout",
     "output_type": "stream",
     "text": [
      "[[3 5]\n",
      " [7 6]]\n"
     ]
    }
   ],
   "source": [
    "# Extracting a 2*2 subarray\n",
    "x2_sub = x2[:2,:2]\n",
    "print(x2_sub)"
   ]
  },
  {
   "cell_type": "code",
   "execution_count": 47,
   "id": "ca77fb74-c8fa-4d01-b32b-73c67d71e863",
   "metadata": {},
   "outputs": [
    {
     "name": "stdout",
     "output_type": "stream",
     "text": [
      "[[99  5]\n",
      " [ 7  6]]\n"
     ]
    }
   ],
   "source": [
    "# modifying the subarray\n",
    "x2_sub[0,0]=99\n",
    "print(x2_sub)"
   ]
  },
  {
   "cell_type": "code",
   "execution_count": 48,
   "id": "22c6eb4c-fe95-4ad8-8b16-6f100eeedee3",
   "metadata": {},
   "outputs": [
    {
     "name": "stdout",
     "output_type": "stream",
     "text": [
      "[[99  5 12  4]\n",
      " [ 7  6  8  8]\n",
      " [ 1  6  7  7]]\n"
     ]
    }
   ],
   "source": [
    "print(x2)"
   ]
  },
  {
   "cell_type": "markdown",
   "id": "fd0b795d-a184-498b-8b84-f1c0ab9a8f2f",
   "metadata": {},
   "source": [
    "##### Creating copies of sub-arrays\n"
   ]
  },
  {
   "cell_type": "code",
   "execution_count": 49,
   "id": "e24834a6-52b6-483e-b835-29a0db5d12f3",
   "metadata": {},
   "outputs": [
    {
     "name": "stdout",
     "output_type": "stream",
     "text": [
      "[[99  5]\n",
      " [ 7  6]]\n"
     ]
    }
   ],
   "source": [
    "# making real copy of x2\n",
    "x2_sub_copy = x2[:2,:2].copy()\n",
    "print(x2_sub_copy)"
   ]
  },
  {
   "cell_type": "code",
   "execution_count": 50,
   "id": "dded7f01-0cdb-42ae-99b1-455938dab4e6",
   "metadata": {},
   "outputs": [
    {
     "name": "stdout",
     "output_type": "stream",
     "text": [
      "[[23  5]\n",
      " [ 7  6]]\n"
     ]
    }
   ],
   "source": [
    "# making changes in copy\n",
    "x2_sub_copy[0,0]=23\n",
    "print(x2_sub_copy)"
   ]
  },
  {
   "cell_type": "code",
   "execution_count": 51,
   "id": "bb1013f6-aeeb-4041-9c67-2b9b2df75fe8",
   "metadata": {},
   "outputs": [
    {
     "name": "stdout",
     "output_type": "stream",
     "text": [
      "[[99  5 12  4]\n",
      " [ 7  6  8  8]\n",
      " [ 1  6  7  7]]\n"
     ]
    }
   ],
   "source": [
    "# it didn't made any changes in the original\n",
    "print(x2)"
   ]
  },
  {
   "cell_type": "markdown",
   "id": "adaa391d-2237-4daf-871d-5363cb3fdaa8",
   "metadata": {},
   "source": [
    "### 4. Reshaping of Arrays\n"
   ]
  },
  {
   "cell_type": "code",
   "execution_count": 55,
   "id": "9b699fb2-16eb-4fc2-9b9d-64a5e25388bf",
   "metadata": {},
   "outputs": [
    {
     "name": "stdout",
     "output_type": "stream",
     "text": [
      "[1 2 3 4 5 6 7 8 9]\n"
     ]
    }
   ],
   "source": [
    "# creating a 1D array\n",
    "array_1d = np.arange(1,10)\n",
    "print(array_1d)"
   ]
  },
  {
   "cell_type": "code",
   "execution_count": 57,
   "id": "1f8ef37f-7a9b-457b-a8a2-1795aa4b3577",
   "metadata": {},
   "outputs": [
    {
     "name": "stdout",
     "output_type": "stream",
     "text": [
      "[[1 2 3]\n",
      " [4 5 6]\n",
      " [7 8 9]]\n"
     ]
    }
   ],
   "source": [
    "# converting that to a 2D array(matrix), the size of initial array must match the size of the reshapped array\n",
    "grid = array_1d.reshape((3,3))\n",
    "print(grid)"
   ]
  },
  {
   "cell_type": "code",
   "execution_count": 72,
   "id": "71fbd16e-e0eb-4791-ad37-8645f7262af8",
   "metadata": {},
   "outputs": [
    {
     "name": "stdout",
     "output_type": "stream",
     "text": [
      "[1 2 3]\n"
     ]
    }
   ],
   "source": [
    "x=np.array([1,2,3])\n",
    "print(x)"
   ]
  },
  {
   "cell_type": "code",
   "execution_count": 73,
   "id": "201baaf8-d120-4d55-b0cb-d8cd7cb28fbc",
   "metadata": {},
   "outputs": [
    {
     "name": "stdout",
     "output_type": "stream",
     "text": [
      "[[1 2 3]]\n"
     ]
    }
   ],
   "source": [
    "# row vector via reshape\n",
    "print(x.reshape((1,3)))"
   ]
  },
  {
   "cell_type": "code",
   "execution_count": 74,
   "id": "2a83a430-b5cc-4561-90b7-7d3d3a36b0bb",
   "metadata": {},
   "outputs": [
    {
     "name": "stdout",
     "output_type": "stream",
     "text": [
      "[[1 2 3]]\n"
     ]
    }
   ],
   "source": [
    "# row vector via newaxis\n",
    "print(x[np.newaxis,:])"
   ]
  },
  {
   "cell_type": "code",
   "execution_count": 75,
   "id": "9e9ef3b3-9fb4-4b11-b896-edd01e946948",
   "metadata": {},
   "outputs": [
    {
     "name": "stdout",
     "output_type": "stream",
     "text": [
      "[[1]\n",
      " [2]\n",
      " [3]]\n"
     ]
    }
   ],
   "source": [
    "# column vector via reshape\n",
    "print(x.reshape((3,1)))"
   ]
  },
  {
   "cell_type": "code",
   "execution_count": 76,
   "id": "de4cf4fa-70f0-4ad0-8b76-e3e40306bfd1",
   "metadata": {},
   "outputs": [
    {
     "name": "stdout",
     "output_type": "stream",
     "text": [
      "[[1]\n",
      " [2]\n",
      " [3]]\n"
     ]
    }
   ],
   "source": [
    "# column vector via newaxis\n",
    "print(x[:,np.newaxis])"
   ]
  },
  {
   "cell_type": "code",
   "execution_count": null,
   "id": "db01b9a9-1279-4829-b0ef-0d4fb063eb16",
   "metadata": {},
   "outputs": [],
   "source": []
  }
 ],
 "metadata": {
  "kernelspec": {
   "display_name": "Python 3 (ipykernel)",
   "language": "python",
   "name": "python3"
  },
  "language_info": {
   "codemirror_mode": {
    "name": "ipython",
    "version": 3
   },
   "file_extension": ".py",
   "mimetype": "text/x-python",
   "name": "python",
   "nbconvert_exporter": "python",
   "pygments_lexer": "ipython3",
   "version": "3.10.12"
  }
 },
 "nbformat": 4,
 "nbformat_minor": 5
}
