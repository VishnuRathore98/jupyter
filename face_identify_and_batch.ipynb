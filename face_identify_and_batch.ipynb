{
 "cells": [
  {
   "cell_type": "code",
   "execution_count": 1,
   "metadata": {},
   "outputs": [],
   "source": [
    "import face_recognition\n",
    "from PIL import Image, ImageDraw\n",
    "import numpy as np\n",
    "import os\n",
    "import random\n",
    "import json\n",
    "import shutil"
   ]
  },
  {
   "cell_type": "code",
   "execution_count": 2,
   "metadata": {},
   "outputs": [],
   "source": [
    "\n",
    "\n",
    "def organize_images(image_path, directory=\"assets/image_data/archive/push\", paging_file=\"assets/image_data/archive/push/image_index.json\"):\n",
    "    \"\"\"\n",
    "    Organizes images into folders based on similarity to existing images,\n",
    "    using face encodings for comparison. Handles multiple faces per image.\n",
    "\n",
    "    Args:\n",
    "        image_path (str): Path to the new image to be organized.\n",
    "        directory (str, optional): Base directory for storing images. \n",
    "                                     Defaults to \"image_store\".\n",
    "        paging_file (str, optional): Name of the JSON file to store \n",
    "                                      folder-encoding mappings. \n",
    "                                      Defaults to \"image_index.json\".\n",
    "    \"\"\"\n",
    "\n",
    "    if not os.path.exists(directory):\n",
    "        os.makedirs(directory)\n",
    "\n",
    "    try:\n",
    "        with open(paging_file, 'r') as f:\n",
    "            folder_encodings = json.load(f)\n",
    "    except FileNotFoundError:\n",
    "        folder_encodings = {}\n",
    "\n",
    "    try:\n",
    "        new_image = face_recognition.load_image_file(image_path)\n",
    "        new_encodings = face_recognition.face_encodings(new_image)  # Get all encodings\n",
    "    except IndexError:\n",
    "        print(f\"Warning: No face detected in {image_path}. Skipping.\")\n",
    "        return\n",
    "\n",
    "    for new_encoding in new_encodings:  # Iterate through each detected face\n",
    "        best_match_folder = None\n",
    "        best_match_distance = float('inf')\n",
    "\n",
    "        # Check if the face matches any existing folder\n",
    "        for folder, encoded_image in folder_encodings.items():\n",
    "            distance = face_recognition.face_distance([encoded_image], new_encoding)[0]\n",
    "            if distance < best_match_distance:\n",
    "                best_match_distance = distance\n",
    "                best_match_folder = folder\n",
    "\n",
    "        # If a match is found, copy the image to the corresponding folder\n",
    "        if best_match_folder and best_match_distance < 0.6:  # Adjust threshold as needed\n",
    "            folder_path = os.path.join(directory, best_match_folder)\n",
    "        else:\n",
    "            # Create a new folder for a new face\n",
    "            while True:\n",
    "                new_folder = str(random.randint(10000, 99999))\n",
    "                folder_path = os.path.join(directory, new_folder)\n",
    "                if not os.path.exists(folder_path):\n",
    "                    os.makedirs(folder_path)\n",
    "                    folder_encodings[new_folder] = new_encoding.tolist()\n",
    "                    break\n",
    "\n",
    "        # Copy the image to the folder\n",
    "        image_filename = os.path.basename(image_path)\n",
    "        new_image_path = os.path.join(folder_path, image_filename)\n",
    "        shutil.copy2(image_path, new_image_path)  # Copy the image to the matching/new folder\n",
    "\n",
    "    # Save the updated encodings back to the JSON file\n",
    "    with open(paging_file, 'w') as f:\n",
    "        json.dump(folder_encodings, f)\n",
    "\n",
    "folder_to_pick_from = \"assets/image_data/archive/pull\"\n",
    "folder_to_compare_from = \"assets/image_data/archive/push\"\n",
    "\n",
    "for item_name in os.listdir(folder_to_pick_from):\n",
    "    # Example usage:\n",
    "    item_path = os.path.join(folder_to_pick_from, item_name)\n",
    "    organize_images(item_path) "
   ]
  },
  {
   "cell_type": "code",
   "execution_count": null,
   "metadata": {},
   "outputs": [],
   "source": [
    "# Load an image with an unknown face\n",
    "unknown_image = face_recognition.load_image_file(\"two_people.jpg\")\n",
    "\n",
    "# Find all the faces and face encodings in the unknown image\n",
    "face_locations = face_recognition.face_locations(unknown_image)\n",
    "face_encodings = face_recognition.face_encodings(unknown_image, face_locations)"
   ]
  },
  {
   "cell_type": "code",
   "execution_count": null,
   "metadata": {},
   "outputs": [],
   "source": [
    "# Convert the image to a PIL-format image so that we can draw on top of it with the Pillow library\n",
    "pil_image = Image.fromarray(unknown_image)\n",
    "# Create a Pillow ImageDraw Draw instance to draw with\n",
    "draw = ImageDraw.Draw(pil_image)"
   ]
  },
  {
   "cell_type": "code",
   "execution_count": null,
   "metadata": {},
   "outputs": [],
   "source": [
    "# Loop through each face found in the unknown image\n",
    "for (top, right, bottom, left), face_encoding in zip(face_locations, face_encodings):\n",
    "    # See if the face is a match for the known face(s)\n",
    "    matches = face_recognition.compare_faces(known_face_encodings, face_encoding)\n",
    "\n",
    "    name = \"Unknown\"\n",
    "\n",
    "    # If a match was found in known_face_encodings, just use the first one.\n",
    "    # if True in matches:\n",
    "    #     first_match_index = matches.index(True)\n",
    "    #     name = known_face_names[first_match_index]\n",
    "\n",
    "    # Or instead, use the known face with the smallest distance to the new face\n",
    "    face_distances = face_recognition.face_distance(known_face_encodings, face_encoding)\n",
    "    best_match_index = np.argmin(face_distances)\n",
    "    if matches[best_match_index]:\n",
    "        name = known_face_names[best_match_index]\n",
    "\n",
    "    # Draw a box around the face using the Pillow module\n",
    "    draw.rectangle(((left, top), (right, bottom)), outline=(0, 0, 255))\n",
    "\n",
    "    # Draw a label with a name below the face\n",
    "    text_width, text_height = draw.textsize(name)\n",
    "    draw.rectangle(((left, bottom - text_height - 10), (right, bottom)), fill=(0, 0, 255), outline=(0, 0, 255))\n",
    "    draw.text((left + 6, bottom - text_height - 5), name, fill=(255, 255, 255, 255))\n"
   ]
  },
  {
   "cell_type": "code",
   "execution_count": null,
   "metadata": {},
   "outputs": [],
   "source": [
    "# Remove the drawing library from memory as per the Pillow docs\n",
    "del draw"
   ]
  },
  {
   "cell_type": "code",
   "execution_count": null,
   "metadata": {},
   "outputs": [],
   "source": [
    "# Display the resulting image\n",
    "pil_image.show()"
   ]
  }
 ],
 "metadata": {
  "kernelspec": {
   "display_name": "Python 3",
   "language": "python",
   "name": "python3"
  },
  "language_info": {
   "codemirror_mode": {
    "name": "ipython",
    "version": 3
   },
   "file_extension": ".py",
   "mimetype": "text/x-python",
   "name": "python",
   "nbconvert_exporter": "python",
   "pygments_lexer": "ipython3",
   "version": "3.10.12"
  }
 },
 "nbformat": 4,
 "nbformat_minor": 2
}
